{
 "cells": [
  {
   "cell_type": "markdown",
   "metadata": {},
   "source": [
    "## **5. Metody Modelowania**"
   ]
  },
  {
   "cell_type": "code",
   "execution_count": 1,
   "metadata": {},
   "outputs": [],
   "source": [
    "import numpy as np\n",
    "import pandas as pd\n",
    "import matplotlib.pyplot as plt"
   ]
  },
  {
   "cell_type": "code",
   "execution_count": 2,
   "metadata": {},
   "outputs": [
    {
     "data": {
      "text/html": [
       "<div>\n",
       "<style scoped>\n",
       "    .dataframe tbody tr th:only-of-type {\n",
       "        vertical-align: middle;\n",
       "    }\n",
       "\n",
       "    .dataframe tbody tr th {\n",
       "        vertical-align: top;\n",
       "    }\n",
       "\n",
       "    .dataframe thead th {\n",
       "        text-align: right;\n",
       "    }\n",
       "</style>\n",
       "<table border=\"1\" class=\"dataframe\">\n",
       "  <thead>\n",
       "    <tr style=\"text-align: right;\">\n",
       "      <th></th>\n",
       "      <th>MS.Zoning</th>\n",
       "      <th>Lot.Frontage</th>\n",
       "      <th>Lot.Area</th>\n",
       "      <th>Street</th>\n",
       "      <th>Alley</th>\n",
       "      <th>Land.Contour</th>\n",
       "      <th>Lot.Config</th>\n",
       "      <th>Neighborhood</th>\n",
       "      <th>Condition.1</th>\n",
       "      <th>Condition.2</th>\n",
       "      <th>...</th>\n",
       "      <th>Garage.Area</th>\n",
       "      <th>Garage.Qual</th>\n",
       "      <th>Garage.Cond</th>\n",
       "      <th>Paved.Drive</th>\n",
       "      <th>Wood.Deck.SF</th>\n",
       "      <th>Open.Porch.SF</th>\n",
       "      <th>Misc.Feature</th>\n",
       "      <th>Sale.Type</th>\n",
       "      <th>Sale.Condition</th>\n",
       "      <th>SalePrice</th>\n",
       "    </tr>\n",
       "  </thead>\n",
       "  <tbody>\n",
       "    <tr>\n",
       "      <th>0</th>\n",
       "      <td>RL</td>\n",
       "      <td>34</td>\n",
       "      <td>3901</td>\n",
       "      <td>Pave</td>\n",
       "      <td>NaN</td>\n",
       "      <td>Lvl</td>\n",
       "      <td>Inside</td>\n",
       "      <td>NridgHt</td>\n",
       "      <td>Norm</td>\n",
       "      <td>Norm</td>\n",
       "      <td>...</td>\n",
       "      <td>631</td>\n",
       "      <td>3</td>\n",
       "      <td>3</td>\n",
       "      <td>Y</td>\n",
       "      <td>110</td>\n",
       "      <td>50</td>\n",
       "      <td>NaN</td>\n",
       "      <td>New</td>\n",
       "      <td>Partial</td>\n",
       "      <td>204000</td>\n",
       "    </tr>\n",
       "    <tr>\n",
       "      <th>1</th>\n",
       "      <td>RL</td>\n",
       "      <td>70</td>\n",
       "      <td>8400</td>\n",
       "      <td>Pave</td>\n",
       "      <td>NaN</td>\n",
       "      <td>Lvl</td>\n",
       "      <td>Corner</td>\n",
       "      <td>Nonemes</td>\n",
       "      <td>Norm</td>\n",
       "      <td>Norm</td>\n",
       "      <td>...</td>\n",
       "      <td>525</td>\n",
       "      <td>3</td>\n",
       "      <td>3</td>\n",
       "      <td>Y</td>\n",
       "      <td>240</td>\n",
       "      <td>0</td>\n",
       "      <td>NaN</td>\n",
       "      <td>WD</td>\n",
       "      <td>Normal</td>\n",
       "      <td>126000</td>\n",
       "    </tr>\n",
       "    <tr>\n",
       "      <th>2</th>\n",
       "      <td>RL</td>\n",
       "      <td>60</td>\n",
       "      <td>7200</td>\n",
       "      <td>Pave</td>\n",
       "      <td>NaN</td>\n",
       "      <td>Lvl</td>\n",
       "      <td>Inside</td>\n",
       "      <td>CollgCr</td>\n",
       "      <td>Norm</td>\n",
       "      <td>Norm</td>\n",
       "      <td>...</td>\n",
       "      <td>396</td>\n",
       "      <td>3</td>\n",
       "      <td>3</td>\n",
       "      <td>Y</td>\n",
       "      <td>192</td>\n",
       "      <td>0</td>\n",
       "      <td>NaN</td>\n",
       "      <td>WD</td>\n",
       "      <td>Normal</td>\n",
       "      <td>133900</td>\n",
       "    </tr>\n",
       "    <tr>\n",
       "      <th>3</th>\n",
       "      <td>RL</td>\n",
       "      <td>64</td>\n",
       "      <td>7018</td>\n",
       "      <td>Pave</td>\n",
       "      <td>NaN</td>\n",
       "      <td>Bnk</td>\n",
       "      <td>Inside</td>\n",
       "      <td>SawyerW</td>\n",
       "      <td>Norm</td>\n",
       "      <td>Norm</td>\n",
       "      <td>...</td>\n",
       "      <td>400</td>\n",
       "      <td>3</td>\n",
       "      <td>3</td>\n",
       "      <td>Y</td>\n",
       "      <td>0</td>\n",
       "      <td>0</td>\n",
       "      <td>NaN</td>\n",
       "      <td>WD</td>\n",
       "      <td>Alloca</td>\n",
       "      <td>118858</td>\n",
       "    </tr>\n",
       "    <tr>\n",
       "      <th>4</th>\n",
       "      <td>RL</td>\n",
       "      <td>111</td>\n",
       "      <td>16259</td>\n",
       "      <td>Pave</td>\n",
       "      <td>NaN</td>\n",
       "      <td>Lvl</td>\n",
       "      <td>Corner</td>\n",
       "      <td>NridgHt</td>\n",
       "      <td>Norm</td>\n",
       "      <td>Norm</td>\n",
       "      <td>...</td>\n",
       "      <td>840</td>\n",
       "      <td>3</td>\n",
       "      <td>3</td>\n",
       "      <td>Y</td>\n",
       "      <td>240</td>\n",
       "      <td>154</td>\n",
       "      <td>NaN</td>\n",
       "      <td>New</td>\n",
       "      <td>Partial</td>\n",
       "      <td>342643</td>\n",
       "    </tr>\n",
       "  </tbody>\n",
       "</table>\n",
       "<p>5 rows × 57 columns</p>\n",
       "</div>"
      ],
      "text/plain": [
       "  MS.Zoning  Lot.Frontage  Lot.Area Street Alley Land.Contour Lot.Config  \\\n",
       "0        RL            34      3901   Pave   NaN          Lvl     Inside   \n",
       "1        RL            70      8400   Pave   NaN          Lvl     Corner   \n",
       "2        RL            60      7200   Pave   NaN          Lvl     Inside   \n",
       "3        RL            64      7018   Pave   NaN          Bnk     Inside   \n",
       "4        RL           111     16259   Pave   NaN          Lvl     Corner   \n",
       "\n",
       "  Neighborhood Condition.1 Condition.2  ... Garage.Area Garage.Qual  \\\n",
       "0      NridgHt        Norm        Norm  ...         631           3   \n",
       "1      Nonemes        Norm        Norm  ...         525           3   \n",
       "2      CollgCr        Norm        Norm  ...         396           3   \n",
       "3      SawyerW        Norm        Norm  ...         400           3   \n",
       "4      NridgHt        Norm        Norm  ...         840           3   \n",
       "\n",
       "   Garage.Cond  Paved.Drive  Wood.Deck.SF Open.Porch.SF Misc.Feature  \\\n",
       "0            3            Y           110            50          NaN   \n",
       "1            3            Y           240             0          NaN   \n",
       "2            3            Y           192             0          NaN   \n",
       "3            3            Y             0             0          NaN   \n",
       "4            3            Y           240           154          NaN   \n",
       "\n",
       "  Sale.Type Sale.Condition SalePrice  \n",
       "0       New        Partial    204000  \n",
       "1       WD          Normal    126000  \n",
       "2       WD          Normal    133900  \n",
       "3       WD          Alloca    118858  \n",
       "4       New        Partial    342643  \n",
       "\n",
       "[5 rows x 57 columns]"
      ]
     },
     "execution_count": 2,
     "metadata": {},
     "output_type": "execute_result"
    }
   ],
   "source": [
    "data_for_modeling = pd.read_csv('data_for_modeling.csv')\n",
    "\n",
    "data_for_modeling.head(5)"
   ]
  },
  {
   "cell_type": "markdown",
   "metadata": {},
   "source": [
    "Przed przystąpieniem do modelowania pozostałe dane kategoryczne zamienię na dane numeryczne. Wykorzystam do tego modułu`'LabelEncoder'`"
   ]
  },
  {
   "cell_type": "code",
   "execution_count": 3,
   "metadata": {},
   "outputs": [],
   "source": [
    "from sklearn.preprocessing import LabelEncoder\n",
    "from sklearn import preprocessing"
   ]
  },
  {
   "cell_type": "code",
   "execution_count": 4,
   "metadata": {},
   "outputs": [
    {
     "data": {
      "text/plain": [
       "['MS.Zoning',\n",
       " 'Street',\n",
       " 'Alley',\n",
       " 'Land.Contour',\n",
       " 'Lot.Config',\n",
       " 'Neighborhood',\n",
       " 'Condition.1',\n",
       " 'Condition.2',\n",
       " 'Bldg.Type',\n",
       " 'House.Style',\n",
       " 'Roof.Style',\n",
       " 'Roof.Matl',\n",
       " 'Exterior.1st',\n",
       " 'Exterior.2nd',\n",
       " 'Mas.Vnr.Type',\n",
       " 'Foundation',\n",
       " 'Heating',\n",
       " 'Functional',\n",
       " 'Garage.Type',\n",
       " 'Paved.Drive',\n",
       " 'Misc.Feature',\n",
       " 'Sale.Type',\n",
       " 'Sale.Condition']"
      ]
     },
     "execution_count": 4,
     "metadata": {},
     "output_type": "execute_result"
    }
   ],
   "source": [
    "# wczytuję listę kolumn gdzie wystepują dane kategoryczne\n",
    "data_cat = list(data_for_modeling.select_dtypes(exclude=[\"number\", 'float']).columns)\n",
    "data_cat"
   ]
  },
  {
   "cell_type": "code",
   "execution_count": 5,
   "metadata": {},
   "outputs": [],
   "source": [
    "for i in data_cat:\n",
    "    data_for_modeling[i] = preprocessing.LabelEncoder().fit_transform(data_for_modeling[i].astype('str'))"
   ]
  },
  {
   "cell_type": "code",
   "execution_count": 6,
   "metadata": {},
   "outputs": [
    {
     "data": {
      "text/html": [
       "<div>\n",
       "<style scoped>\n",
       "    .dataframe tbody tr th:only-of-type {\n",
       "        vertical-align: middle;\n",
       "    }\n",
       "\n",
       "    .dataframe tbody tr th {\n",
       "        vertical-align: top;\n",
       "    }\n",
       "\n",
       "    .dataframe thead th {\n",
       "        text-align: right;\n",
       "    }\n",
       "</style>\n",
       "<table border=\"1\" class=\"dataframe\">\n",
       "  <thead>\n",
       "    <tr style=\"text-align: right;\">\n",
       "      <th></th>\n",
       "      <th>MS.Zoning</th>\n",
       "      <th>Street</th>\n",
       "      <th>Alley</th>\n",
       "      <th>Land.Contour</th>\n",
       "      <th>Lot.Config</th>\n",
       "      <th>Neighborhood</th>\n",
       "      <th>Condition.1</th>\n",
       "      <th>Condition.2</th>\n",
       "      <th>Bldg.Type</th>\n",
       "      <th>House.Style</th>\n",
       "      <th>...</th>\n",
       "      <th>Exterior.2nd</th>\n",
       "      <th>Mas.Vnr.Type</th>\n",
       "      <th>Foundation</th>\n",
       "      <th>Heating</th>\n",
       "      <th>Functional</th>\n",
       "      <th>Garage.Type</th>\n",
       "      <th>Paved.Drive</th>\n",
       "      <th>Misc.Feature</th>\n",
       "      <th>Sale.Type</th>\n",
       "      <th>Sale.Condition</th>\n",
       "    </tr>\n",
       "  </thead>\n",
       "  <tbody>\n",
       "    <tr>\n",
       "      <th>0</th>\n",
       "      <td>5</td>\n",
       "      <td>1</td>\n",
       "      <td>2</td>\n",
       "      <td>3</td>\n",
       "      <td>4</td>\n",
       "      <td>18</td>\n",
       "      <td>2</td>\n",
       "      <td>2</td>\n",
       "      <td>3</td>\n",
       "      <td>2</td>\n",
       "      <td>...</td>\n",
       "      <td>13</td>\n",
       "      <td>3</td>\n",
       "      <td>2</td>\n",
       "      <td>1</td>\n",
       "      <td>6</td>\n",
       "      <td>1</td>\n",
       "      <td>2</td>\n",
       "      <td>4</td>\n",
       "      <td>6</td>\n",
       "      <td>5</td>\n",
       "    </tr>\n",
       "    <tr>\n",
       "      <th>1</th>\n",
       "      <td>5</td>\n",
       "      <td>1</td>\n",
       "      <td>2</td>\n",
       "      <td>3</td>\n",
       "      <td>0</td>\n",
       "      <td>17</td>\n",
       "      <td>2</td>\n",
       "      <td>2</td>\n",
       "      <td>0</td>\n",
       "      <td>2</td>\n",
       "      <td>...</td>\n",
       "      <td>10</td>\n",
       "      <td>4</td>\n",
       "      <td>1</td>\n",
       "      <td>1</td>\n",
       "      <td>6</td>\n",
       "      <td>1</td>\n",
       "      <td>2</td>\n",
       "      <td>4</td>\n",
       "      <td>9</td>\n",
       "      <td>4</td>\n",
       "    </tr>\n",
       "    <tr>\n",
       "      <th>2</th>\n",
       "      <td>5</td>\n",
       "      <td>1</td>\n",
       "      <td>2</td>\n",
       "      <td>3</td>\n",
       "      <td>4</td>\n",
       "      <td>5</td>\n",
       "      <td>2</td>\n",
       "      <td>2</td>\n",
       "      <td>0</td>\n",
       "      <td>6</td>\n",
       "      <td>...</td>\n",
       "      <td>6</td>\n",
       "      <td>4</td>\n",
       "      <td>1</td>\n",
       "      <td>1</td>\n",
       "      <td>6</td>\n",
       "      <td>5</td>\n",
       "      <td>2</td>\n",
       "      <td>4</td>\n",
       "      <td>9</td>\n",
       "      <td>4</td>\n",
       "    </tr>\n",
       "  </tbody>\n",
       "</table>\n",
       "<p>3 rows × 23 columns</p>\n",
       "</div>"
      ],
      "text/plain": [
       "   MS.Zoning  Street  Alley  Land.Contour  Lot.Config  Neighborhood  \\\n",
       "0          5       1      2             3           4            18   \n",
       "1          5       1      2             3           0            17   \n",
       "2          5       1      2             3           4             5   \n",
       "\n",
       "   Condition.1  Condition.2  Bldg.Type  House.Style  ...  Exterior.2nd  \\\n",
       "0            2            2          3            2  ...            13   \n",
       "1            2            2          0            2  ...            10   \n",
       "2            2            2          0            6  ...             6   \n",
       "\n",
       "   Mas.Vnr.Type  Foundation  Heating  Functional  Garage.Type  Paved.Drive  \\\n",
       "0             3           2        1           6            1            2   \n",
       "1             4           1        1           6            1            2   \n",
       "2             4           1        1           6            5            2   \n",
       "\n",
       "   Misc.Feature  Sale.Type  Sale.Condition  \n",
       "0             4          6               5  \n",
       "1             4          9               4  \n",
       "2             4          9               4  \n",
       "\n",
       "[3 rows x 23 columns]"
      ]
     },
     "execution_count": 6,
     "metadata": {},
     "output_type": "execute_result"
    }
   ],
   "source": [
    "# sprawdzam czy zadziałał LabelEncoder w pierwszej kolejności dla kolumn gdzie były wartości kategoryczne\n",
    "data_for_modeling[data_cat].head(3)"
   ]
  },
  {
   "cell_type": "code",
   "execution_count": 7,
   "metadata": {},
   "outputs": [
    {
     "data": {
      "text/html": [
       "<div>\n",
       "<style scoped>\n",
       "    .dataframe tbody tr th:only-of-type {\n",
       "        vertical-align: middle;\n",
       "    }\n",
       "\n",
       "    .dataframe tbody tr th {\n",
       "        vertical-align: top;\n",
       "    }\n",
       "\n",
       "    .dataframe thead th {\n",
       "        text-align: right;\n",
       "    }\n",
       "</style>\n",
       "<table border=\"1\" class=\"dataframe\">\n",
       "  <thead>\n",
       "    <tr style=\"text-align: right;\">\n",
       "      <th></th>\n",
       "      <th>MS.Zoning</th>\n",
       "      <th>Lot.Frontage</th>\n",
       "      <th>Lot.Area</th>\n",
       "      <th>Street</th>\n",
       "      <th>Alley</th>\n",
       "      <th>Land.Contour</th>\n",
       "      <th>Lot.Config</th>\n",
       "      <th>Neighborhood</th>\n",
       "      <th>Condition.1</th>\n",
       "      <th>Condition.2</th>\n",
       "      <th>...</th>\n",
       "      <th>Garage.Area</th>\n",
       "      <th>Garage.Qual</th>\n",
       "      <th>Garage.Cond</th>\n",
       "      <th>Paved.Drive</th>\n",
       "      <th>Wood.Deck.SF</th>\n",
       "      <th>Open.Porch.SF</th>\n",
       "      <th>Misc.Feature</th>\n",
       "      <th>Sale.Type</th>\n",
       "      <th>Sale.Condition</th>\n",
       "      <th>SalePrice</th>\n",
       "    </tr>\n",
       "  </thead>\n",
       "  <tbody>\n",
       "    <tr>\n",
       "      <th>0</th>\n",
       "      <td>5</td>\n",
       "      <td>34</td>\n",
       "      <td>3901</td>\n",
       "      <td>1</td>\n",
       "      <td>2</td>\n",
       "      <td>3</td>\n",
       "      <td>4</td>\n",
       "      <td>18</td>\n",
       "      <td>2</td>\n",
       "      <td>2</td>\n",
       "      <td>...</td>\n",
       "      <td>631</td>\n",
       "      <td>3</td>\n",
       "      <td>3</td>\n",
       "      <td>2</td>\n",
       "      <td>110</td>\n",
       "      <td>50</td>\n",
       "      <td>4</td>\n",
       "      <td>6</td>\n",
       "      <td>5</td>\n",
       "      <td>204000</td>\n",
       "    </tr>\n",
       "    <tr>\n",
       "      <th>1</th>\n",
       "      <td>5</td>\n",
       "      <td>70</td>\n",
       "      <td>8400</td>\n",
       "      <td>1</td>\n",
       "      <td>2</td>\n",
       "      <td>3</td>\n",
       "      <td>0</td>\n",
       "      <td>17</td>\n",
       "      <td>2</td>\n",
       "      <td>2</td>\n",
       "      <td>...</td>\n",
       "      <td>525</td>\n",
       "      <td>3</td>\n",
       "      <td>3</td>\n",
       "      <td>2</td>\n",
       "      <td>240</td>\n",
       "      <td>0</td>\n",
       "      <td>4</td>\n",
       "      <td>9</td>\n",
       "      <td>4</td>\n",
       "      <td>126000</td>\n",
       "    </tr>\n",
       "    <tr>\n",
       "      <th>2</th>\n",
       "      <td>5</td>\n",
       "      <td>60</td>\n",
       "      <td>7200</td>\n",
       "      <td>1</td>\n",
       "      <td>2</td>\n",
       "      <td>3</td>\n",
       "      <td>4</td>\n",
       "      <td>5</td>\n",
       "      <td>2</td>\n",
       "      <td>2</td>\n",
       "      <td>...</td>\n",
       "      <td>396</td>\n",
       "      <td>3</td>\n",
       "      <td>3</td>\n",
       "      <td>2</td>\n",
       "      <td>192</td>\n",
       "      <td>0</td>\n",
       "      <td>4</td>\n",
       "      <td>9</td>\n",
       "      <td>4</td>\n",
       "      <td>133900</td>\n",
       "    </tr>\n",
       "  </tbody>\n",
       "</table>\n",
       "<p>3 rows × 57 columns</p>\n",
       "</div>"
      ],
      "text/plain": [
       "   MS.Zoning  Lot.Frontage  Lot.Area  Street  Alley  Land.Contour  Lot.Config  \\\n",
       "0          5            34      3901       1      2             3           4   \n",
       "1          5            70      8400       1      2             3           0   \n",
       "2          5            60      7200       1      2             3           4   \n",
       "\n",
       "   Neighborhood  Condition.1  Condition.2  ...  Garage.Area  Garage.Qual  \\\n",
       "0            18            2            2  ...          631            3   \n",
       "1            17            2            2  ...          525            3   \n",
       "2             5            2            2  ...          396            3   \n",
       "\n",
       "   Garage.Cond  Paved.Drive  Wood.Deck.SF  Open.Porch.SF  Misc.Feature  \\\n",
       "0            3            2           110             50             4   \n",
       "1            3            2           240              0             4   \n",
       "2            3            2           192              0             4   \n",
       "\n",
       "   Sale.Type  Sale.Condition  SalePrice  \n",
       "0          6               5     204000  \n",
       "1          9               4     126000  \n",
       "2          9               4     133900  \n",
       "\n",
       "[3 rows x 57 columns]"
      ]
     },
     "execution_count": 7,
     "metadata": {},
     "output_type": "execute_result"
    }
   ],
   "source": [
    "# wczytam jeszcze raz cały zestaw danych, aby się upewnić czy nie ma danych kategorycznych\n",
    "data_for_modeling.head(3)"
   ]
  },
  {
   "cell_type": "markdown",
   "metadata": {},
   "source": [
    "***\n",
    "W pierwszym kroku zajmę się podziałem data setu na zestaw treningowy i testowy. Znim jednka to zrobię podzielę zbior danych na zbiór gdzie jest `'SalePrice'` (zmienna objaśniana) i zbiór gdzie są pozostałe zmienne.\n"
   ]
  },
  {
   "cell_type": "code",
   "execution_count": 8,
   "metadata": {},
   "outputs": [],
   "source": [
    "from sklearn.model_selection import train_test_split"
   ]
  },
  {
   "cell_type": "code",
   "execution_count": 9,
   "metadata": {},
   "outputs": [
    {
     "data": {
      "text/html": [
       "<div>\n",
       "<style scoped>\n",
       "    .dataframe tbody tr th:only-of-type {\n",
       "        vertical-align: middle;\n",
       "    }\n",
       "\n",
       "    .dataframe tbody tr th {\n",
       "        vertical-align: top;\n",
       "    }\n",
       "\n",
       "    .dataframe thead th {\n",
       "        text-align: right;\n",
       "    }\n",
       "</style>\n",
       "<table border=\"1\" class=\"dataframe\">\n",
       "  <thead>\n",
       "    <tr style=\"text-align: right;\">\n",
       "      <th></th>\n",
       "      <th>MS.Zoning</th>\n",
       "      <th>Lot.Frontage</th>\n",
       "      <th>Lot.Area</th>\n",
       "      <th>Street</th>\n",
       "      <th>Alley</th>\n",
       "      <th>Land.Contour</th>\n",
       "      <th>Lot.Config</th>\n",
       "      <th>Neighborhood</th>\n",
       "      <th>Condition.1</th>\n",
       "      <th>Condition.2</th>\n",
       "      <th>...</th>\n",
       "      <th>Garage.Cars</th>\n",
       "      <th>Garage.Area</th>\n",
       "      <th>Garage.Qual</th>\n",
       "      <th>Garage.Cond</th>\n",
       "      <th>Paved.Drive</th>\n",
       "      <th>Wood.Deck.SF</th>\n",
       "      <th>Open.Porch.SF</th>\n",
       "      <th>Misc.Feature</th>\n",
       "      <th>Sale.Type</th>\n",
       "      <th>Sale.Condition</th>\n",
       "    </tr>\n",
       "  </thead>\n",
       "  <tbody>\n",
       "    <tr>\n",
       "      <th>0</th>\n",
       "      <td>5</td>\n",
       "      <td>34</td>\n",
       "      <td>3901</td>\n",
       "      <td>1</td>\n",
       "      <td>2</td>\n",
       "      <td>3</td>\n",
       "      <td>4</td>\n",
       "      <td>18</td>\n",
       "      <td>2</td>\n",
       "      <td>2</td>\n",
       "      <td>...</td>\n",
       "      <td>2</td>\n",
       "      <td>631</td>\n",
       "      <td>3</td>\n",
       "      <td>3</td>\n",
       "      <td>2</td>\n",
       "      <td>110</td>\n",
       "      <td>50</td>\n",
       "      <td>4</td>\n",
       "      <td>6</td>\n",
       "      <td>5</td>\n",
       "    </tr>\n",
       "    <tr>\n",
       "      <th>1</th>\n",
       "      <td>5</td>\n",
       "      <td>70</td>\n",
       "      <td>8400</td>\n",
       "      <td>1</td>\n",
       "      <td>2</td>\n",
       "      <td>3</td>\n",
       "      <td>0</td>\n",
       "      <td>17</td>\n",
       "      <td>2</td>\n",
       "      <td>2</td>\n",
       "      <td>...</td>\n",
       "      <td>2</td>\n",
       "      <td>525</td>\n",
       "      <td>3</td>\n",
       "      <td>3</td>\n",
       "      <td>2</td>\n",
       "      <td>240</td>\n",
       "      <td>0</td>\n",
       "      <td>4</td>\n",
       "      <td>9</td>\n",
       "      <td>4</td>\n",
       "    </tr>\n",
       "    <tr>\n",
       "      <th>2</th>\n",
       "      <td>5</td>\n",
       "      <td>60</td>\n",
       "      <td>7200</td>\n",
       "      <td>1</td>\n",
       "      <td>2</td>\n",
       "      <td>3</td>\n",
       "      <td>4</td>\n",
       "      <td>5</td>\n",
       "      <td>2</td>\n",
       "      <td>2</td>\n",
       "      <td>...</td>\n",
       "      <td>1</td>\n",
       "      <td>396</td>\n",
       "      <td>3</td>\n",
       "      <td>3</td>\n",
       "      <td>2</td>\n",
       "      <td>192</td>\n",
       "      <td>0</td>\n",
       "      <td>4</td>\n",
       "      <td>9</td>\n",
       "      <td>4</td>\n",
       "    </tr>\n",
       "  </tbody>\n",
       "</table>\n",
       "<p>3 rows × 56 columns</p>\n",
       "</div>"
      ],
      "text/plain": [
       "   MS.Zoning  Lot.Frontage  Lot.Area  Street  Alley  Land.Contour  Lot.Config  \\\n",
       "0          5            34      3901       1      2             3           4   \n",
       "1          5            70      8400       1      2             3           0   \n",
       "2          5            60      7200       1      2             3           4   \n",
       "\n",
       "   Neighborhood  Condition.1  Condition.2  ...  Garage.Cars  Garage.Area  \\\n",
       "0            18            2            2  ...            2          631   \n",
       "1            17            2            2  ...            2          525   \n",
       "2             5            2            2  ...            1          396   \n",
       "\n",
       "   Garage.Qual  Garage.Cond  Paved.Drive  Wood.Deck.SF  Open.Porch.SF  \\\n",
       "0            3            3            2           110             50   \n",
       "1            3            3            2           240              0   \n",
       "2            3            3            2           192              0   \n",
       "\n",
       "   Misc.Feature  Sale.Type  Sale.Condition  \n",
       "0             4          6               5  \n",
       "1             4          9               4  \n",
       "2             4          9               4  \n",
       "\n",
       "[3 rows x 56 columns]"
      ]
     },
     "execution_count": 9,
     "metadata": {},
     "output_type": "execute_result"
    }
   ],
   "source": [
    "# dziele zbiory na zbiór gdzie jest 'SalePrice' (zmienna objaśniana) i zbiór gdzie są pozostałe zmienne\n",
    "X = data_for_modeling.copy().drop('SalePrice', axis = 1)\n",
    "y = data_for_modeling.SalePrice.copy()\n",
    "\n",
    "X.head(3)"
   ]
  },
  {
   "cell_type": "code",
   "execution_count": 10,
   "metadata": {},
   "outputs": [],
   "source": [
    "# podział data setu na zestaw treningowy i testowy za pomoca moduły train_test_split\n",
    "X_train, X_test, y_train, y_test = train_test_split(X, y, test_size=0.33, random_state=42)"
   ]
  },
  {
   "cell_type": "code",
   "execution_count": 11,
   "metadata": {},
   "outputs": [
    {
     "name": "stdout",
     "output_type": "stream",
     "text": [
      "(1993, 56)\n",
      "(1993,)\n",
      "(1335, 56)\n",
      "(1335,)\n",
      "(658, 56)\n",
      "(658,)\n"
     ]
    }
   ],
   "source": [
    "# po podzilenieu na zestaw testowy i treningowy sprawdzę wymiary zestawów danych\n",
    "print(X.shape)\n",
    "print(y.shape)\n",
    "print(X_train.shape)\n",
    "print(y_train.shape)\n",
    "print(X_test.shape)\n",
    "print(y_test.shape)"
   ]
  },
  {
   "cell_type": "code",
   "execution_count": 12,
   "metadata": {},
   "outputs": [
    {
     "data": {
      "image/png": "[encoded data removed]",
      "text/plain": [
       "<Figure size 432x288 with 1 Axes>"
      ]
     },
     "metadata": {
      "needs_background": "light"
     },
     "output_type": "display_data"
    }
   ],
   "source": [
    "# wizualizacja rozkładu zmiennej obiaśnianej w zestawie testowym i treningowym \n",
    "plt.hist(y_train, alpha=0.5)\n",
    "plt.hist(y_test, alpha=0.5)\n",
    "plt.show()"
   ]
  },
  {
   "cell_type": "markdown",
   "metadata": {},
   "source": [
    "***"
   ]
  },
  {
   "cell_type": "markdown",
   "metadata": {},
   "source": [
    "W kolejnym kroku zajmę się przeskalowaniem danych za pomocą modułu StandardScaler.\n",
    "\n",
    "Standaryzacja bedzie dotyczyła wszystkich zminnych. Polega na przekształceniu danych, aby ich rozkład miał średnią wartośc równą 0 i odchylenie standardowe równe 1."
   ]
  },
  {
   "cell_type": "code",
   "execution_count": 13,
   "metadata": {},
   "outputs": [],
   "source": [
    "# wykorzystam moduł StandardScaler z pakietu sklearn w celu przeskalowania danych\n",
    "from sklearn.preprocessing import StandardScaler\n",
    "\n",
    "scaler = StandardScaler()\n",
    "scaler.fit(X_train)\n",
    "X_train_scaled = scaler.transform(X_train)\n",
    "X_test_scaled = scaler.transform(X_test)"
   ]
  },
  {
   "cell_type": "markdown",
   "metadata": {},
   "source": [
    "W celu przyśpieszenia procesu uczenia modelu można wykonać redukcję wymiarowości. W tym celu wyznaczenia optymalnej liczby komponentów wykorzystam moduł PCA (Principal Component Analysis).\n",
    "\n",
    "W pierwszym podejściu nie zastosowałem PCA przed rozpoczeciem trenowania modelu co istotnie wpłyneło na czas trenowani modelu."
   ]
  },
  {
   "cell_type": "code",
   "execution_count": 14,
   "metadata": {},
   "outputs": [
    {
     "data": {
      "image/png": "[encoded data removed]",
      "text/plain": [
       "<Figure size 1296x432 with 1 Axes>"
      ]
     },
     "metadata": {
      "needs_background": "light"
     },
     "output_type": "display_data"
    }
   ],
   "source": [
    "from sklearn.decomposition import PCA\n",
    "pca = PCA()\n",
    "\n",
    "pca.fit(X_train_scaled)\n",
    "plt.figure(figsize=(18,6))\n",
    "plt.bar(range(pca.n_components_),pca.explained_variance_ratio_)\n",
    "plt.show()"
   ]
  },
  {
   "cell_type": "code",
   "execution_count": 15,
   "metadata": {},
   "outputs": [
    {
     "name": "stdout",
     "output_type": "stream",
     "text": [
      " KFold(n_splits=5, random_state=42, shuffle=False) \n",
      " StandardScaler()\n"
     ]
    },
    {
     "name": "stderr",
     "output_type": "stream",
     "text": [
      "/Users/m.owczarek/anaconda3/lib/python3.7/site-packages/sklearn/model_selection/_split.py:297: FutureWarning: Setting a random_state has no effect since shuffle is False. This will raise an error in 0.24. You should leave random_state to its default (None), or set shuffle=True.\n",
      "  FutureWarning\n"
     ]
    }
   ],
   "source": [
    "from sklearn.model_selection import KFold\n",
    "kfold = KFold(n_splits=5, random_state=42)    # ustawiam 5 podziałów\n",
    "pca = PCA(random_state=42, n_components=16)    # ustawiam 16 komponentów\n",
    "scaler = StandardScaler()\n",
    "print(\"\",kfold,\"\\n\",scaler)"
   ]
  },
  {
   "cell_type": "markdown",
   "metadata": {},
   "source": [
    "\n",
    "Przytąpie teraz to wytrenowania kiku modeli. \n",
    "\n",
    "Dla każdego z modeli wykonam pipeline danych, które stworzę za pomocą modułu `make_pipeline`.\n",
    "\n",
    "Dodatkowo w celu znalezienia najlepszych parametrów modelu wykorzystam moduł `GridSearchCV`.\n",
    "\n",
    "Wykonam także walidację krzyszową `k-fold cross-validation`, która jest wykorzytywana w celu uniknęcia overfitingu. Za pomocą modułu `KFold` data set jest podzielony na podzbiory (ich liczbe ustaliłem jako 5) które będą wykorzystane do walidacji.\n"
   ]
  },
  {
   "cell_type": "code",
   "execution_count": 16,
   "metadata": {},
   "outputs": [],
   "source": [
    "from sklearn.pipeline import make_pipeline\n",
    "from sklearn.preprocessing import PolynomialFeatures\n",
    "from sklearn.model_selection import GridSearchCV\n",
    "from sklearn import metrics\n",
    "from sklearn.model_selection import cross_val_score"
   ]
  },
  {
   "cell_type": "markdown",
   "metadata": {},
   "source": [
    "\n",
    "* Model Regresji Liniowej"
   ]
  },
  {
   "cell_type": "code",
   "execution_count": 17,
   "metadata": {},
   "outputs": [],
   "source": [
    "from sklearn import linear_model"
   ]
  },
  {
   "cell_type": "code",
   "execution_count": 18,
   "metadata": {},
   "outputs": [
    {
     "name": "stdout",
     "output_type": "stream",
     "text": [
      "----\n",
      " {'polynomialfeatures__degree': 2} \n",
      " 0.9313374590577588\n",
      "----\n",
      "Cross-Validation Linear Regression R2: 0.902 +/- 0.016\n"
     ]
    }
   ],
   "source": [
    "\n",
    "param_grid = {'polynomialfeatures__degree': [1, 2, 3, 4]}\n",
    "\n",
    "polynomialfeatures = PolynomialFeatures()\n",
    "\n",
    "linearregression = linear_model.LinearRegression()\n",
    "\n",
    "pipeline = make_pipeline(scaler, \n",
    "                         pca,\n",
    "                         polynomialfeatures, \n",
    "                         linearregression)\n",
    "\n",
    "grid_lr = GridSearchCV(estimator=pipeline, \n",
    "                       param_grid=param_grid, \n",
    "                       cv=kfold, \n",
    "                       refit=True, \n",
    "                       scoring='r2')\n",
    "\n",
    "grid_lr.fit(X_train,y_train)\n",
    "\n",
    "scores_lr = cross_val_score(grid_lr, \n",
    "                            X, y, \n",
    "                            scoring='r2', \n",
    "                            cv=5)\n",
    "\n",
    "print('----')\n",
    "print(\"\",grid_lr.best_params_,\"\\n\",metrics.r2_score(y_train, grid_lr.predict(X_train)))\n",
    "print('----')\n",
    "print('Cross-Validation Linear Regression R2: %.3f +/- %.3f' % (np.mean(scores_lr), np.std(scores_lr)))"
   ]
  },
  {
   "cell_type": "markdown",
   "metadata": {},
   "source": [
    "* Model Regresji ElasticNet"
   ]
  },
  {
   "cell_type": "code",
   "execution_count": 19,
   "metadata": {},
   "outputs": [],
   "source": [
    "from sklearn.linear_model import ElasticNet"
   ]
  },
  {
   "cell_type": "code",
   "execution_count": 20,
   "metadata": {},
   "outputs": [
    {
     "name": "stdout",
     "output_type": "stream",
     "text": [
      "----\n",
      " {'elasticnet__alpha': 1, 'polynomialfeatures__degree': 2} \n",
      " 0.9246463807691405\n",
      "----\n",
      "Cross-Validation ElasticNet R2: 0.907 +/- 0.008\n"
     ]
    }
   ],
   "source": [
    "param_grid = {'polynomialfeatures__degree': [1, 2, 3, 4], \n",
    "              'elasticnet__alpha': [0.001, 0.01, 0.05, 0.1, 1, 10]}\n",
    "\n",
    "polynomialfeatures = PolynomialFeatures()\n",
    "\n",
    "elasticnet = ElasticNet(tol=0.1, random_state=42)\n",
    "\n",
    "pipeline = make_pipeline(scaler, \n",
    "                         pca, \n",
    "                         polynomialfeatures, \n",
    "                         elasticnet)\n",
    "\n",
    "grid_en = GridSearchCV(estimator=pipeline, \n",
    "                       param_grid=param_grid, \n",
    "                       cv=kfold, \n",
    "                       refit=True, \n",
    "                       scoring='r2')\n",
    "\n",
    "grid_en.fit(X_train,y_train)\n",
    "\n",
    "scores_en = cross_val_score(grid_en, \n",
    "                            X, y, \n",
    "                            scoring='r2', \n",
    "                            cv=5)\n",
    "\n",
    "print('----')\n",
    "print(\"\",grid_en.best_params_,\"\\n\",metrics.r2_score(y_train, grid_en.predict(X_train)))\n",
    "print('----')\n",
    "print('Cross-Validation ElasticNet R2: %.3f +/- %.3f' % (np.mean(scores_en), np.std(scores_en)))"
   ]
  },
  {
   "cell_type": "markdown",
   "metadata": {},
   "source": [
    "* Model Regresji Ridge (regresji grzbietowej)"
   ]
  },
  {
   "cell_type": "code",
   "execution_count": 21,
   "metadata": {},
   "outputs": [],
   "source": [
    "from sklearn.linear_model import Ridge"
   ]
  },
  {
   "cell_type": "code",
   "execution_count": 22,
   "metadata": {},
   "outputs": [
    {
     "name": "stdout",
     "output_type": "stream",
     "text": [
      "----\n",
      " {'polynomialfeatures__degree': 2, 'ridge__alpha': 500} \n",
      " 0.926281639256998\n",
      "----\n",
      "Cross-Validation Ridge Regression R2: 0.906 +/- 0.009\n"
     ]
    }
   ],
   "source": [
    "param_grid = {'polynomialfeatures__degree': [1, 2, 3, 4], \n",
    "             'ridge__alpha': [1, 10, 50, 100, 500, 1000]}\n",
    "\n",
    "polynomialfeatures = PolynomialFeatures()\n",
    "\n",
    "ridge = Ridge(random_state=42)\n",
    "\n",
    "pipeline = make_pipeline(scaler, \n",
    "                         pca, \n",
    "                         polynomialfeatures, \n",
    "                         ridge)\n",
    "\n",
    "grid_rdg = GridSearchCV(estimator=pipeline, \n",
    "                        param_grid=param_grid, \n",
    "                        cv=kfold, \n",
    "                        refit=True, \n",
    "                        scoring='r2')\n",
    "\n",
    "grid_rdg.fit(X_train,y_train)\n",
    "\n",
    "scores_rdg = cross_val_score(grid_rdg, \n",
    "                            X, y, \n",
    "                            scoring='r2', \n",
    "                            cv=5)\n",
    "\n",
    "print('----')\n",
    "print(\"\",grid_rdg.best_params_,\"\\n\",metrics.r2_score(y_train, grid_rdg.predict(X_train)))\n",
    "print('----')\n",
    "print('Cross-Validation Ridge Regression R2: %.3f +/- %.3f' % (np.mean(scores_rdg), np.std(scores_rdg)))"
   ]
  },
  {
   "cell_type": "markdown",
   "metadata": {},
   "source": [
    "* Model Regresji Lasso"
   ]
  },
  {
   "cell_type": "code",
   "execution_count": 23,
   "metadata": {},
   "outputs": [],
   "source": [
    "from sklearn.linear_model import Lasso"
   ]
  },
  {
   "cell_type": "code",
   "execution_count": 24,
   "metadata": {},
   "outputs": [
    {
     "name": "stdout",
     "output_type": "stream",
     "text": [
      "----\n",
      " {'lasso__alpha': 3.0, 'polynomialfeatures__degree': 2} \n",
      " 0.9239260435531358\n",
      "----\n",
      "Cross-Validation Lasso Regression R2: 0.904 +/- 0.009\n"
     ]
    }
   ],
   "source": [
    "param_grid={'polynomialfeatures__degree': [1, 2, 3, 4],\n",
    "                      'lasso__alpha': [1., 2., 3.]},\n",
    "\n",
    "polynomialfeatures = PolynomialFeatures()\n",
    "\n",
    "lasso = Lasso(alpha=1, tol=0.1)\n",
    "\n",
    "pipeline = make_pipeline(scaler, \n",
    "                         pca, \n",
    "                         polynomialfeatures, \n",
    "                         lasso)\n",
    "\n",
    "grid_lasso = GridSearchCV(estimator=pipeline,\n",
    "                          param_grid=param_grid,\n",
    "                          cv=kfold,\n",
    "                          refit=True,\n",
    "                          scoring='r2')\n",
    "\n",
    "grid_lasso.fit(X_train,y_train)\n",
    "\n",
    "scores_lasso = cross_val_score(grid_lasso, \n",
    "                            X, y, \n",
    "                            scoring='r2', \n",
    "                            cv=5)\n",
    "\n",
    "print('----')\n",
    "print(\"\",grid_lasso.best_params_,\"\\n\",metrics.r2_score(y_train, grid_lasso.predict(X_train)))\n",
    "print('----')\n",
    "print('Cross-Validation Lasso Regression R2: %.3f +/- %.3f' % (np.mean(scores_lasso), np.std(scores_lasso)))"
   ]
  },
  {
   "cell_type": "markdown",
   "metadata": {},
   "source": [
    "* Model Random Forest"
   ]
  },
  {
   "cell_type": "code",
   "execution_count": 25,
   "metadata": {},
   "outputs": [],
   "source": [
    "from sklearn.ensemble import RandomForestRegressor"
   ]
  },
  {
   "cell_type": "code",
   "execution_count": null,
   "metadata": {},
   "outputs": [],
   "source": [
    "param_grid = {'randomforestregressor__n_estimators': [250, 500, 750, 1000], \n",
    "              'randomforestregressor__max_features': ['auto', 'sqrt', 'log2']}\n",
    "\n",
    "rfr = RandomForestRegressor(n_jobs=-1,\n",
    "                            oob_score = True,\n",
    "                            random_state=42) \n",
    "\n",
    "pipeline = make_pipeline(scaler, \n",
    "                         pca, \n",
    "                         rfr)\n",
    "\n",
    "grid_rf = GridSearchCV(estimator=pipeline, \n",
    "                       param_grid=param_grid, \n",
    "                       cv=kfold, refit=True, \n",
    "                       scoring='r2')\n",
    "\n",
    "grid_rf.fit(X_train,y_train)\n",
    "\n",
    "scores_rf = cross_val_score(grid_rf, X, y, scoring='r2', cv=5)\n",
    "\n",
    "print('----')\n",
    "print(\"\",grid_rf.best_params_,\"\\n\",metrics.r2_score(y_train, grid_rf.predict(X_train)))\n",
    "print('----')\n",
    "print('Cross-Validation Random Forest Regressor R2: %.3f +/- %.3f' % (np.mean(scores_rf), np.std(scores_rf)))"
   ]
  },
  {
   "cell_type": "markdown",
   "metadata": {},
   "source": [
    "* Model Gradient Boosting"
   ]
  },
  {
   "cell_type": "code",
   "execution_count": null,
   "metadata": {},
   "outputs": [],
   "source": [
    "from sklearn.ensemble import GradientBoostingRegressor"
   ]
  },
  {
   "cell_type": "code",
   "execution_count": null,
   "metadata": {},
   "outputs": [],
   "source": [
    "param_grid = {'gradientboostingregressor__n_estimators': [250, 500, 750, 1000], \n",
    "              'gradientboostingregressor__max_features': ['auto', 'sqrt', 'log2']}\n",
    "\n",
    "gbr = GradientBoostingRegressor(n_estimators=600,\n",
    "                                max_depth=5,\n",
    "                                learning_rate=0.01,\n",
    "                                min_samples_split=3) \n",
    "\n",
    "pipeline = make_pipeline(scaler, \n",
    "                         pca, \n",
    "                         gbr)\n",
    "\n",
    "grid_gbr = GridSearchCV(estimator=pipeline, \n",
    "                       param_grid=param_grid, \n",
    "                       cv=kfold, refit=True, \n",
    "                       scoring='r2')\n",
    "\n",
    "grid_gbr.fit(X_train,y_train)\n",
    "\n",
    "\n",
    "scores_gbr = cross_val_score(grid_gbr, \n",
    "                          X, y, \n",
    "                          scoring='r2', \n",
    "                          cv=5)\n",
    "\n",
    "print('----')\n",
    "print(\"\",grid_gbr.best_params_,\"\\n\",metrics.r2_score(y_train, grid_gbr.predict(X_train)))\n",
    "print('----')\n",
    "print('Cross-Validation Gradient Boosting Regressor R2: %.3f +/- %.3f' % (np.mean(scores_gbr), np.std(scores_gbr)))"
   ]
  },
  {
   "cell_type": "markdown",
   "metadata": {},
   "source": [
    "**Metryki**\n",
    "\n",
    "Pakiet scikit-learn posiada dużą ilość miar, które możemy wykorzystać do analizy wyników uzyskanych przez model.\n",
    "<br>https://scikit-learn.org/stable/modules/model_evaluation.html"
   ]
  },
  {
   "cell_type": "code",
   "execution_count": 33,
   "metadata": {},
   "outputs": [],
   "source": [
    "modele = []\n",
    "modele.append(('LinearRegression', grid_lr.best_estimator_))\n",
    "modele.append(('ElasticNet', grid_en.best_estimator_))\n",
    "modele.append(('Ridge', grid_rdg.best_estimator_))\n",
    "modele.append(('Lasso', grid_lasso.best_estimator_))\n",
    "modele.append(('RandomForestRegressor', grid_rf.best_estimator_))\n",
    "modele.append(('GradientBoostingRegressor', grid_gbr.best_estimator_))"
   ]
  },
  {
   "cell_type": "code",
   "execution_count": 34,
   "metadata": {},
   "outputs": [],
   "source": [
    "r2_train = []\n",
    "r2_test = []\n",
    "explained_variance_score = []\n",
    "median_absolute_error = []\n",
    "mean_squared_error = []\n",
    "mean_absolute_error = []\n",
    "for name, model in modele:\n",
    "    r2_train.append(metrics.r2_score(y_train, model.predict(X_train)))\n",
    "    r2_test.append(metrics.r2_score(y_test, model.predict(X_test)))\n",
    "    explained_variance_score.append(metrics.explained_variance_score(y_test, model.predict(X_test)))\n",
    "    median_absolute_error.append( metrics.median_absolute_error(y_test, model.predict(X_test)))\n",
    "    mean_squared_error.append(metrics.mean_squared_error(y_test, model.predict(X_test)))\n",
    "    mean_absolute_error.append(metrics.mean_absolute_error(y_test, model.predict(X_test)))"
   ]
  },
  {
   "cell_type": "code",
   "execution_count": 35,
   "metadata": {},
   "outputs": [
    {
     "data": {
      "text/html": [
       "<div>\n",
       "<style scoped>\n",
       "    .dataframe tbody tr th:only-of-type {\n",
       "        vertical-align: middle;\n",
       "    }\n",
       "\n",
       "    .dataframe tbody tr th {\n",
       "        vertical-align: top;\n",
       "    }\n",
       "\n",
       "    .dataframe thead th {\n",
       "        text-align: right;\n",
       "    }\n",
       "</style>\n",
       "<table border=\"1\" class=\"dataframe\">\n",
       "  <thead>\n",
       "    <tr style=\"text-align: right;\">\n",
       "      <th></th>\n",
       "      <th>R2 (train)</th>\n",
       "      <th>R2 (test)</th>\n",
       "      <th>(EVS)  Explained variance score (test)</th>\n",
       "      <th>(MedAE)  Median absolute error (test)</th>\n",
       "      <th>(MSE)  Mean squared error (test)</th>\n",
       "      <th>(MAE)  Mean absolute errors (test)</th>\n",
       "    </tr>\n",
       "    <tr>\n",
       "      <th>Name</th>\n",
       "      <th></th>\n",
       "      <th></th>\n",
       "      <th></th>\n",
       "      <th></th>\n",
       "      <th></th>\n",
       "      <th></th>\n",
       "    </tr>\n",
       "  </thead>\n",
       "  <tbody>\n",
       "    <tr>\n",
       "      <th>LinearRegression</th>\n",
       "      <td>0.931337</td>\n",
       "      <td>0.899931</td>\n",
       "      <td>0.899934</td>\n",
       "      <td>12250.155066</td>\n",
       "      <td>5.463175e+08</td>\n",
       "      <td>16914.695421</td>\n",
       "    </tr>\n",
       "    <tr>\n",
       "      <th>ElasticNet</th>\n",
       "      <td>0.924646</td>\n",
       "      <td>0.910165</td>\n",
       "      <td>0.910183</td>\n",
       "      <td>11510.818718</td>\n",
       "      <td>4.904445e+08</td>\n",
       "      <td>15816.550351</td>\n",
       "    </tr>\n",
       "    <tr>\n",
       "      <th>Ridge</th>\n",
       "      <td>0.926282</td>\n",
       "      <td>0.908433</td>\n",
       "      <td>0.908440</td>\n",
       "      <td>11404.472654</td>\n",
       "      <td>4.999030e+08</td>\n",
       "      <td>16001.215624</td>\n",
       "    </tr>\n",
       "    <tr>\n",
       "      <th>Lasso</th>\n",
       "      <td>0.923926</td>\n",
       "      <td>0.903229</td>\n",
       "      <td>0.903257</td>\n",
       "      <td>12586.609785</td>\n",
       "      <td>5.283141e+08</td>\n",
       "      <td>16789.118363</td>\n",
       "    </tr>\n",
       "    <tr>\n",
       "      <th>RandomForestRegressor</th>\n",
       "      <td>0.982467</td>\n",
       "      <td>0.899758</td>\n",
       "      <td>0.899785</td>\n",
       "      <td>11736.439500</td>\n",
       "      <td>5.472619e+08</td>\n",
       "      <td>16733.113167</td>\n",
       "    </tr>\n",
       "    <tr>\n",
       "      <th>GradientBoostingRegressor</th>\n",
       "      <td>0.981287</td>\n",
       "      <td>0.900888</td>\n",
       "      <td>0.900893</td>\n",
       "      <td>10988.608471</td>\n",
       "      <td>5.410947e+08</td>\n",
       "      <td>16366.474843</td>\n",
       "    </tr>\n",
       "  </tbody>\n",
       "</table>\n",
       "</div>"
      ],
      "text/plain": [
       "                           R2 (train)  R2 (test)  \\\n",
       "Name                                               \n",
       "LinearRegression             0.931337   0.899931   \n",
       "ElasticNet                   0.924646   0.910165   \n",
       "Ridge                        0.926282   0.908433   \n",
       "Lasso                        0.923926   0.903229   \n",
       "RandomForestRegressor        0.982467   0.899758   \n",
       "GradientBoostingRegressor    0.981287   0.900888   \n",
       "\n",
       "                           (EVS)  Explained variance score (test)  \\\n",
       "Name                                                                \n",
       "LinearRegression                                         0.899934   \n",
       "ElasticNet                                               0.910183   \n",
       "Ridge                                                    0.908440   \n",
       "Lasso                                                    0.903257   \n",
       "RandomForestRegressor                                    0.899785   \n",
       "GradientBoostingRegressor                                0.900893   \n",
       "\n",
       "                           (MedAE)  Median absolute error (test)  \\\n",
       "Name                                                               \n",
       "LinearRegression                                    12250.155066   \n",
       "ElasticNet                                          11510.818718   \n",
       "Ridge                                               11404.472654   \n",
       "Lasso                                               12586.609785   \n",
       "RandomForestRegressor                               11736.439500   \n",
       "GradientBoostingRegressor                           10988.608471   \n",
       "\n",
       "                           (MSE)  Mean squared error (test)  \\\n",
       "Name                                                          \n",
       "LinearRegression                               5.463175e+08   \n",
       "ElasticNet                                     4.904445e+08   \n",
       "Ridge                                          4.999030e+08   \n",
       "Lasso                                          5.283141e+08   \n",
       "RandomForestRegressor                          5.472619e+08   \n",
       "GradientBoostingRegressor                      5.410947e+08   \n",
       "\n",
       "                           (MAE)  Mean absolute errors (test)  \n",
       "Name                                                           \n",
       "LinearRegression                                 16914.695421  \n",
       "ElasticNet                                       15816.550351  \n",
       "Ridge                                            16001.215624  \n",
       "Lasso                                            16789.118363  \n",
       "RandomForestRegressor                            16733.113167  \n",
       "GradientBoostingRegressor                        16366.474843  "
      ]
     },
     "execution_count": 35,
     "metadata": {},
     "output_type": "execute_result"
    }
   ],
   "source": [
    "wyniki = pd.DataFrame(data=modele)\n",
    "\n",
    "wyniki.rename({0 : 'Name', 1 : 'Model'}, axis = 1, inplace=True)\n",
    "wyniki.drop(labels=['Model'], axis=1, inplace=True)\n",
    "wyniki.set_index('Name', inplace=True)\n",
    "\n",
    "wyniki['R2 (train)'] = r2_train\n",
    "wyniki['R2 (test)'] = r2_test\n",
    "wyniki['(EVS)  Explained variance score (test)'] = explained_variance_score\n",
    "wyniki['(MedAE)  Median absolute error (test)'] = median_absolute_error\n",
    "wyniki['(MSE)  Mean squared error (test)'] = mean_squared_error\n",
    "wyniki['(MAE)  Mean absolute errors (test)'] = mean_absolute_error\n",
    "wyniki"
   ]
  },
  {
   "cell_type": "markdown",
   "metadata": {},
   "source": [
    "* Dla modelu z najlepszym wynikiem zweryfikuję jakie zmienne były najważniejsze."
   ]
  },
  {
   "cell_type": "code",
   "execution_count": 36,
   "metadata": {},
   "outputs": [
    {
     "data": {
      "text/plain": [
       "ElasticNet(random_state=42, tol=0.1)"
      ]
     },
     "execution_count": 36,
     "metadata": {},
     "output_type": "execute_result"
    }
   ],
   "source": [
    "elasticnet.fit(X_train, y_train)"
   ]
  },
  {
   "cell_type": "code",
   "execution_count": 37,
   "metadata": {},
   "outputs": [],
   "source": [
    "feature_imp = {v:k for v, k in zip(data_for_modeling.columns,rfr.feature_importances_)}\n",
    "\n",
    "sorted_feature_imp = sorted(feature_imp.items(), key= lambda  kv : kv[1], reverse=True)"
   ]
  },
  {
   "cell_type": "code",
   "execution_count": 38,
   "metadata": {},
   "outputs": [],
   "source": [
    "_x, y = zip(*sorted_feature_imp)"
   ]
  },
  {
   "cell_type": "code",
   "execution_count": 40,
   "metadata": {},
   "outputs": [
    {
     "data": {
      "text/plain": [
       "Text(0.5, 1.0, 'Wykres ważności zmiennych dla modelu ElasticNet')"
      ]
     },
     "execution_count": 40,
     "metadata": {},
     "output_type": "execute_result"
    },
    {
     "data": {
      "image/png": "[encoded data removed]",
      "text/plain": [
       "<Figure size 1440x720 with 1 Axes>"
      ]
     },
     "metadata": {
      "needs_background": "light"
     },
     "output_type": "display_data"
    }
   ],
   "source": [
    "\n",
    "plt.figure(figsize=(20,10))\n",
    "plt.bar(_x, y)\n",
    "plt.xticks(rotation=90)\n",
    "plt.title(\"Wykres ważności zmiennych dla modelu ElasticNet\")"
   ]
  },
  {
   "cell_type": "markdown",
   "metadata": {},
   "source": [
    "## **5. Podsumowanie wyników i wnioski**\n",
    "\n",
    "* Podsumowanie wyników\n",
    "\n",
    "Finalnie najlepsze wyniki osiągnła model ...\n",
    "\n",
    "Inne modele dają bardzo podobne wyniki na wskażniku R2 ale także na innych. Roznice są nie wielkie, na tyle, że przy innym podziale zestawu danych na zestaw treningowy i testowy wyniki mogłby się zmienić "
   ]
  },
  {
   "cell_type": "markdown",
   "metadata": {},
   "source": [
    "**Wnioski i przemyślenia**:\n",
    "\n",
    "- Realizacja projektu pozwoliła na ustrukturyzowanie wiedzy i pozwoliła na praktyczne przetestowanie i wykorzytanie konceptów, które omawiliśmy podczas bootcampu.\n",
    "\n",
    "- Jednym z największych wyzwań było dla mnie ustalenie odpowiedniego flow dla całago projektu tj. jakie działania wykonać w pierwszej kolejności, jak dane działania będą wpływały na kolejne kroki (zarówno na etapie czyszczenia i anlizay danych jak i na etapie modelowania).\n",
    "\n",
    "- Odpowiednie zrozumienie danych jest kluczowe dla projektu. W data secie były niespojności na pozimie słowników np.: wystęowały wartości słownikowe NA oraz None, które po odpowednim połączeniu z innymi zmiennymi można zamienić.\n",
    "\n",
    "- Istotne okazało się zamienienie zmiennych porządkowych na zmienne numeryczne, ponieważ wpłyneło to na korelacje między zmienna objaśnianą, a pozostałymi zmiennymi (tj.: zmienne porządkowe miały istotny wpływ na zmienną objaśnianą). \n",
    "\n",
    "- W pierwszej wersji projektu wykorzystałem także bibliotekę Pandas Profiling Report, która pozwala na kompleksową eksloracyjną analizę danych. Wynik tej analizy jest dostępny z poziomu jupyter notebook'a w iframe przez co jest możliwośc jego oglądania tylko kiedy nootbook działa. Jest możliowść zrzuucenia wyniku anlizy do raportu w formacie .html, ale ten plik miał ponad 45MB. Finalnie zrezygnowałem z wykorzystania tej biblioteki, ponieważ wszystkie anlizy wykonałem samodzielnie, ale z pewnościa jest to interesujące narzędzie.\n",
    "\n",
    "- Bardzo wiele informacji i lepsze zrozumienie danych dało mi zweryfikowanie korelacji między zmiennymi, warto wcześniej wykonać analize korelacji \n",
    "\n",
    "**Co mogłem zrobić lepiej?**\n",
    "\n",
    "- Wykonałem kilka wizualizacji, być może mogłem więcej czasu poświęcić na ten etpa i zastoswać bardziej zaawansowane sposoby wizualizacji.\n",
    "\n",
    "- Na etapie czyszczenia danych zaminiłem zmienną rok budowy garażu na wiek co lepiej oddaje watość tej zminnej, być może więcej podobnych przekształceń można było wykonać.\n",
    "\n",
    "- W pierwszym podejściu do zamiany danych kategorycznych na numeryczne (przed etapem modelowania) wykorzystałem metodę z biblioteki Pandas `get.dummies` jednak znalazłem informacje na stackoverflow, że inne metody moga być lepsze. Chciałem wykorzystać `OneHotEncoder`, ale pojawiały się błędy i wykorzystałem `LabelEncoder`. Być może warto byłoby zastosować tą metodę wcześniej np.: tuż po zamianie zmiennych porządkowych na numeryczne co mogłoby włynąć na korelacje danych.\n",
    "\n",
    "- W pierwszym podejściu nie wykonałem redukcji wymiarowwości co spowodowało, że moje modele trenowały się bardzo długo (nie dotrwałem do końca:). Po wykorzystaniu modułu `PCA` trenowanie modeli było znacznie szybsze, ale nie jestem pewien czy dobrałem najlepszy wskaźnik ilości komponentów (wybrałem wskaźnik na podstawie wizualizacji i metodą \"prób i błędów\". Ten etap na pewno można optymalizować.\n"
   ]
  },
  {
   "cell_type": "markdown",
   "metadata": {},
   "source": [
    "***"
   ]
  },
  {
   "cell_type": "markdown",
   "metadata": {},
   "source": [
    "\n",
    "**Przydatne linki i literatura**\n",
    "<br>https://jakevdp.github.io/PythonDataScienceHandbook/\n",
    "<br>https://pandas.pydata.org/pandas-docs/stable/index.html\n",
    "<br>https://towardsdatascience.com/exploratory-data-analysis-eda-python-87178e35b14\n",
    "<br>https://machinelearningmastery.com/one-hot-encoding-for-categorical-data/\n",
    "<br>https://scikit-learn.org/stable/\n",
    "<br>https://pandas-profiling.github.io/pandas-profiling/docs/master/rtd/\n",
    "<br>https://scikit-learn.org/stable/modules/generated/sklearn.metrics.r2_score.html#sklearn.metrics.r2_score\n",
    "<br>https://towardsdatascience.com/pca-using-python-scikit-learn-e653f8989e60"
   ]
  }
 ],
 "metadata": {
  "kernelspec": {
   "display_name": "Python 3",
   "language": "python",
   "name": "python3"
  },
  "language_info": {
   "codemirror_mode": {
    "name": "ipython",
    "version": 3
   },
   "file_extension": ".py",
   "mimetype": "text/x-python",
   "name": "python",
   "nbconvert_exporter": "python",
   "pygments_lexer": "ipython3",
   "version": "3.7.1"
  }
 },
 "nbformat": 4,
 "nbformat_minor": 4
}
